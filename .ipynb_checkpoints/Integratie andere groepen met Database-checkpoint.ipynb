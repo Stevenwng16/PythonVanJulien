{
 "cells": [
  {
   "cell_type": "code",
   "execution_count": 1,
   "id": "97f294dd",
   "metadata": {},
   "outputs": [],
   "source": [
    "import pandas as pd\n",
    "import numpy as np\n",
    "\n",
    "from db_connect.connect_to_database import connect, write_to_database, read_from_database "
   ]
  },
  {
   "cell_type": "code",
   "execution_count": null,
   "id": "d2a787cc",
   "metadata": {},
   "outputs": [],
   "source": []
  }
 ],
 "metadata": {
  "kernelspec": {
   "display_name": "Voeding-kernel",
   "language": "python",
   "name": "voeding_env"
  },
  "language_info": {
   "codemirror_mode": {
    "name": "ipython",
    "version": 3
   },
   "file_extension": ".py",
   "mimetype": "text/x-python",
   "name": "python",
   "nbconvert_exporter": "python",
   "pygments_lexer": "ipython3",
   "version": "3.7.11"
  }
 },
 "nbformat": 4,
 "nbformat_minor": 5
}
